{
 "cells": [
  {
   "cell_type": "code",
   "execution_count": 56,
   "id": "465aadb8-9bd1-41f8-b47c-df47fee8eaae",
   "metadata": {},
   "outputs": [],
   "source": [
    "import warnings\n",
    "warnings.filterwarnings('ignore')\n",
    "from sklearn.datasets import load_iris\n",
    "import pandas as pd\n",
    "import seaborn as sns\n",
    "import numpy as np\n",
    "import matplotlib.pyplot as plt\n",
    "import re\n",
    "import nltk\n",
    "from nltk.corpus import stopwords\n",
    "from sklearn.model_selection import train_test_split\n",
    "from sklearn.metrics import confusion_matrix\n",
    "from sklearn.feature_extraction.text import TfidfVectorizer\n",
    "from sklearn.feature_extraction.text import CountVectorizer\n",
    "from imblearn.over_sampling import SMOTE\n",
    "from sklearn.naive_bayes import MultinomialNB\n",
    "from sklearn.metrics import classification_report\n",
    "from sklearn.pipeline import Pipeline"
   ]
  },
  {
   "cell_type": "code",
   "execution_count": 38,
   "id": "fbc73477-f498-4fee-853d-255bfff16859",
   "metadata": {},
   "outputs": [
    {
     "data": {
      "text/html": [
       "<div>\n",
       "<style scoped>\n",
       "    .dataframe tbody tr th:only-of-type {\n",
       "        vertical-align: middle;\n",
       "    }\n",
       "\n",
       "    .dataframe tbody tr th {\n",
       "        vertical-align: top;\n",
       "    }\n",
       "\n",
       "    .dataframe thead th {\n",
       "        text-align: right;\n",
       "    }\n",
       "</style>\n",
       "<table border=\"1\" class=\"dataframe\">\n",
       "  <thead>\n",
       "    <tr style=\"text-align: right;\">\n",
       "      <th></th>\n",
       "      <th>v1</th>\n",
       "      <th>v2</th>\n",
       "    </tr>\n",
       "  </thead>\n",
       "  <tbody>\n",
       "    <tr>\n",
       "      <th>0</th>\n",
       "      <td>ham</td>\n",
       "      <td>Go until jurong point, crazy.. Available only ...</td>\n",
       "    </tr>\n",
       "    <tr>\n",
       "      <th>1</th>\n",
       "      <td>ham</td>\n",
       "      <td>Ok lar... Joking wif u oni...</td>\n",
       "    </tr>\n",
       "    <tr>\n",
       "      <th>2</th>\n",
       "      <td>spam</td>\n",
       "      <td>Free entry in 2 a wkly comp to win FA Cup fina...</td>\n",
       "    </tr>\n",
       "    <tr>\n",
       "      <th>3</th>\n",
       "      <td>ham</td>\n",
       "      <td>U dun say so early hor... U c already then say...</td>\n",
       "    </tr>\n",
       "    <tr>\n",
       "      <th>4</th>\n",
       "      <td>ham</td>\n",
       "      <td>Nah I don't think he goes to usf, he lives aro...</td>\n",
       "    </tr>\n",
       "    <tr>\n",
       "      <th>...</th>\n",
       "      <td>...</td>\n",
       "      <td>...</td>\n",
       "    </tr>\n",
       "    <tr>\n",
       "      <th>5567</th>\n",
       "      <td>spam</td>\n",
       "      <td>This is the 2nd time we have tried 2 contact u...</td>\n",
       "    </tr>\n",
       "    <tr>\n",
       "      <th>5568</th>\n",
       "      <td>ham</td>\n",
       "      <td>Will Ì_ b going to esplanade fr home?</td>\n",
       "    </tr>\n",
       "    <tr>\n",
       "      <th>5569</th>\n",
       "      <td>ham</td>\n",
       "      <td>Pity, * was in mood for that. So...any other s...</td>\n",
       "    </tr>\n",
       "    <tr>\n",
       "      <th>5570</th>\n",
       "      <td>ham</td>\n",
       "      <td>The guy did some bitching but I acted like i'd...</td>\n",
       "    </tr>\n",
       "    <tr>\n",
       "      <th>5571</th>\n",
       "      <td>ham</td>\n",
       "      <td>Rofl. Its true to its name</td>\n",
       "    </tr>\n",
       "  </tbody>\n",
       "</table>\n",
       "<p>5572 rows × 2 columns</p>\n",
       "</div>"
      ],
      "text/plain": [
       "        v1                                                 v2\n",
       "0      ham  Go until jurong point, crazy.. Available only ...\n",
       "1      ham                      Ok lar... Joking wif u oni...\n",
       "2     spam  Free entry in 2 a wkly comp to win FA Cup fina...\n",
       "3      ham  U dun say so early hor... U c already then say...\n",
       "4      ham  Nah I don't think he goes to usf, he lives aro...\n",
       "...    ...                                                ...\n",
       "5567  spam  This is the 2nd time we have tried 2 contact u...\n",
       "5568   ham              Will Ì_ b going to esplanade fr home?\n",
       "5569   ham  Pity, * was in mood for that. So...any other s...\n",
       "5570   ham  The guy did some bitching but I acted like i'd...\n",
       "5571   ham                         Rofl. Its true to its name\n",
       "\n",
       "[5572 rows x 2 columns]"
      ]
     },
     "execution_count": 38,
     "metadata": {},
     "output_type": "execute_result"
    }
   ],
   "source": [
    "df = pd.read_csv('spam1.csv',encoding='ISO-8859-1')\n",
    "df"
   ]
  },
  {
   "cell_type": "markdown",
   "id": "435bc32b-8661-425e-88c4-78e69fa5915b",
   "metadata": {},
   "source": [
    "### 1. [Theory] What are the basic assumptions of the Naive Bayes algorithm?\n",
    "The Naive Bayes algorithm is a probabilistic classifier based on Bayes’ Theorem, and it makes several key assumptions to simplify the computation. Here are the basic assumptions:\n",
    "- **Feature Independence (Naivety Assumption)**\n",
    "    - Assumption: All features (predictors) are conditionally independent given the class label.\n",
    "    - Implication: The presence or value of a feature is unrelated to the presence or value of any other feature, given the class.\n",
    "    - Example: In spam detection, if you're classifying emails based on words, Naive Bayes assumes that the occurrence of the word “free” is independent of the word “money,” given that the email is spam.\n",
    "\n",
    "This is the core \"naive\" assumption and is often not true in real-world data, but the model still performs surprisingly well in many applications.\n",
    "- **All Features Contribute Equally and Independently**\n",
    "    - Each feature contributes independently to the probability of a certain outcome.\n",
    "    - There is no interaction between features in terms of their influence on the target variable.\n",
    "- **Correct Class Prior Probabilities**\n",
    "    - It assumes that the prior probabilities of each class (P(Class)) are either:\n",
    "        - Known (from training data), or\n",
    "        - Can be accurately estimated from the data.\n",
    "- **Correct Likelihood Estimation**\n",
    "    - It assumes that you can accurately estimate the likelihood 𝑃(𝑋𝑖∣𝐶), which is the probability of feature Xi given class C.\n",
    "    - For categorical data, frequency-based estimation is often used.\n",
    "    - For continuous data, you often assume a distribution (e.g., Gaussian) for the features and estimate its parameters from the data."
   ]
  },
  {
   "cell_type": "markdown",
   "id": "c1494d07-8342-4961-973f-35ea59b774bb",
   "metadata": {},
   "source": [
    "### 2. [Code] Load the dataset and display the first 5 rows. Mention the shape and number of unique labels."
   ]
  },
  {
   "cell_type": "code",
   "execution_count": 39,
   "id": "7f241adf-1ad7-4693-bcc0-a93450c9f235",
   "metadata": {},
   "outputs": [
    {
     "name": "stdout",
     "output_type": "stream",
     "text": [
      "First 5 rows of the dataset:\n",
      "     v1                                                 v2\n",
      "0   ham  Go until jurong point, crazy.. Available only ...\n",
      "1   ham                      Ok lar... Joking wif u oni...\n",
      "2  spam  Free entry in 2 a wkly comp to win FA Cup fina...\n",
      "3   ham  U dun say so early hor... U c already then say...\n",
      "4   ham  Nah I don't think he goes to usf, he lives aro...\n",
      "\n",
      "Shape of the dataset: (5572, 2)\n",
      "\n",
      "Unique labels and their counts:\n",
      "v1\n",
      "ham     4825\n",
      "spam     747\n",
      "Name: count, dtype: int64\n",
      "\n",
      "Number of unique labels: 2\n"
     ]
    }
   ],
   "source": [
    "print(\"First 5 rows of the dataset:\")\n",
    "print(df.head())\n",
    "\n",
    "print(\"\\nShape of the dataset:\", df.shape)\n",
    "\n",
    "print(\"\\nUnique labels and their counts:\")\n",
    "print(df['v1'].value_counts())\n",
    "print(\"\\nNumber of unique labels:\", df['v1'].nunique())"
   ]
  },
  {
   "cell_type": "markdown",
   "id": "49d44b2b-15ab-411e-bd59-34b3fa13049d",
   "metadata": {},
   "source": [
    "### 3. [Code] Plot the distribution of spam vs. ham messages using a countplot."
   ]
  },
  {
   "cell_type": "code",
   "execution_count": 40,
   "id": "e42a93a4-5c2e-4d63-a347-a1d4227b15cf",
   "metadata": {},
   "outputs": [
    {
     "data": {
      "image/png": "[encoded data removed]",
      "text/plain": [
       "<Figure size 400x400 with 1 Axes>"
      ]
     },
     "metadata": {},
     "output_type": "display_data"
    }
   ],
   "source": [
    "sns.set(style=\"whitegrid\")\n",
    "plt.figure(figsize=(4, 4))\n",
    "sns.countplot(data=df, x='v1', hue='v1', palette='pastel', legend=False)\n",
    "\n",
    "plt.title('Distribution of Ham vs Spam Messages')\n",
    "plt.xlabel('Message Type')\n",
    "plt.ylabel('Count')\n",
    "plt.show()"
   ]
  },
  {
   "cell_type": "markdown",
   "id": "26bae1e8-5bc7-4128-a7eb-a572b174c8ad",
   "metadata": {},
   "source": [
    "### 4. [Theory] Why is Naive Bayes preferred for text classification tasks?\n",
    "Naive Bayes is widely preferred for text classification tasks (like spam detection, sentiment analysis, etc.) due to the following key reasons:\n",
    "\n",
    "**1. Simplicity and Efficiency**\n",
    "- Naive Bayes is computationally very fast — both for training and prediction.\n",
    "- It works well even with large feature spaces, which is common in text data (thousands of words).\n",
    "\n",
    "**2. Handles High-Dimensional Data**\n",
    "- Text data converted via Bag of Words or TF-IDF results in sparse, high-dimensional vectors.\n",
    "- Naive Bayes handles this effectively without needing dimensionality reduction.\n",
    "\n",
    "**3. Performs Well Even with Limited Data**\n",
    "- Unlike some complex models, Naive Bayes performs surprisingly well with small datasets.\n",
    "- It assumes feature independence, which simplifies learning even with fewer examples.\n",
    "\n",
    "**4. Probabilistic Output**\n",
    "- It provides probability scores for each class, making it interpretable and useful when confidence in predictions is important.\n",
    "\n",
    "**5. Good Baseline Model**\n",
    "- Despite its simplicity, it often performs competitively with more complex models.\n",
    "- It’s commonly used as a baseline in text classification tasks."
   ]
  },
  {
   "cell_type": "markdown",
   "id": "4c3e0798-ed0a-45fe-9e14-ec59c5e3a75f",
   "metadata": {},
   "source": [
    "### 5. [Code] Clean the text column: lowercasing, removing special characters, and stopwords. Show 5 cleaned examples."
   ]
  },
  {
   "cell_type": "code",
   "execution_count": 41,
   "id": "b17551d5-fe02-4f96-8ef1-c030ca10eefd",
   "metadata": {},
   "outputs": [
    {
     "name": "stdout",
     "output_type": "stream",
     "text": [
      "                                                  v2  \\\n",
      "0  Go until jurong point, crazy.. Available only ...   \n",
      "1                      Ok lar... Joking wif u oni...   \n",
      "2  Free entry in 2 a wkly comp to win FA Cup fina...   \n",
      "3  U dun say so early hor... U c already then say...   \n",
      "4  Nah I don't think he goes to usf, he lives aro...   \n",
      "\n",
      "                                     cleaned_message  \n",
      "0  go jurong point crazy available bugis n great ...  \n",
      "1                            ok lar joking wif u oni  \n",
      "2  free entry wkly comp win fa cup final tkts st ...  \n",
      "3                u dun say early hor u c already say  \n",
      "4        nah dont think goes usf lives around though  \n"
     ]
    },
    {
     "name": "stderr",
     "output_type": "stream",
     "text": [
      "[nltk_data] Downloading package stopwords to C:\\Users\\Hasti\n",
      "[nltk_data]     Gohel\\AppData\\Roaming\\nltk_data...\n",
      "[nltk_data]   Package stopwords is already up-to-date!\n"
     ]
    }
   ],
   "source": [
    "nltk.download('stopwords')\n",
    "stop_words = set(stopwords.words('english'))\n",
    "\n",
    "def clean_text(text):\n",
    "    text = text.lower()  # Lowercase\n",
    "    text = re.sub(r'[^a-z\\s]', '', text)  # Remove special characters and digits\n",
    "    text = ' '.join([word for word in text.split() if word not in stop_words])  # Remove stopwords\n",
    "    return text\n",
    "\n",
    "df['cleaned_message'] = df['v2'].apply(clean_text)\n",
    "print(df[['v2', 'cleaned_message']].head())"
   ]
  },
  {
   "cell_type": "markdown",
   "id": "e455d3ab-c975-49f8-9c9a-61b3e893f8b1",
   "metadata": {},
   "source": [
    "### 6. [Code] Convert text into numerical format using CountVectorizer or TfidfVectorizer."
   ]
  },
  {
   "cell_type": "code",
   "execution_count": 42,
   "id": "99f1b0ed-e82b-4d7b-8f63-48d4c684ddd4",
   "metadata": {},
   "outputs": [
    {
     "name": "stdout",
     "output_type": "stream",
     "text": [
      "Shape of TfidfVectorizer output: (5572, 8389)\n"
     ]
    }
   ],
   "source": [
    "tfidf = TfidfVectorizer()\n",
    "\n",
    "X_tfidf = tfidf.fit_transform(df['cleaned_message'])\n",
    "print(\"Shape of TfidfVectorizer output:\", X_tfidf.shape)"
   ]
  },
  {
   "cell_type": "markdown",
   "id": "ad542e60-a01d-4883-ad97-5d31637fecab",
   "metadata": {},
   "source": [
    "### 7. [Code] Split the data into train and test sets using an 80-20 ratio."
   ]
  },
  {
   "cell_type": "code",
   "execution_count": 43,
   "id": "8a71ec09-1c1d-46c5-8947-b996f63626b0",
   "metadata": {},
   "outputs": [
    {
     "name": "stdout",
     "output_type": "stream",
     "text": [
      "X_train shape: (4457, 8389)\n",
      "X_test shape: (1115, 8389)\n",
      "y_train distribution:\n",
      " label_num\n",
      "0    3859\n",
      "1     598\n",
      "Name: count, dtype: int64\n",
      "y_test distribution:\n",
      " label_num\n",
      "0    966\n",
      "1    149\n",
      "Name: count, dtype: int64\n"
     ]
    }
   ],
   "source": [
    "cv = CountVectorizer()\n",
    "X_cv = cv.fit_transform(df['cleaned_message'])\n",
    "\n",
    "df['label_num'] = df['v1'].map({'ham': 0, 'spam': 1})\n",
    "y = df['label_num']\n",
    "\n",
    "X = X_cv \n",
    "\n",
    "X_train, X_test, y_train, y_test = train_test_split(\n",
    "    X, y, test_size=0.20, random_state=42, stratify=y\n",
    ")\n",
    "\n",
    "print(\"X_train shape:\", X_train.shape)\n",
    "print(\"X_test shape:\", X_test.shape)\n",
    "print(\"y_train distribution:\\n\", y_train.value_counts())\n",
    "print(\"y_test distribution:\\n\", y_test.value_counts())"
   ]
  },
  {
   "cell_type": "markdown",
   "id": "ab8e66ef-eca5-4798-b15d-e9d61df82da0",
   "metadata": {},
   "source": [
    "### 8. [Code] Train a Multinomial Naive Bayes classifier on the vectorized training data."
   ]
  },
  {
   "cell_type": "code",
   "execution_count": 44,
   "id": "f21d1b18-d6b5-459b-b900-e0ae484d83c6",
   "metadata": {},
   "outputs": [
    {
     "name": "stdout",
     "output_type": "stream",
     "text": [
      "Model training complete.\n"
     ]
    }
   ],
   "source": [
    "from sklearn.naive_bayes import MultinomialNB\n",
    "\n",
    "nb_model = MultinomialNB()\n",
    "nb_model.fit(X_train, y_train)\n",
    "\n",
    "print(\"Model training complete.\")"
   ]
  },
  {
   "cell_type": "markdown",
   "id": "65688c98-e2e8-4891-a126-59b07681a3ff",
   "metadata": {},
   "source": [
    "### 9. [Code] Predict on the test set and print metrics like accuracy, precision, recall, and F1-score."
   ]
  },
  {
   "cell_type": "code",
   "execution_count": 45,
   "id": "49c1d1b4-3f53-497a-97f9-54d0ee3a3b3c",
   "metadata": {},
   "outputs": [
    {
     "name": "stdout",
     "output_type": "stream",
     "text": [
      "Accuracy : 0.9695067264573991\n",
      "Precision: 0.8616352201257862\n",
      "Recall   : 0.9194630872483222\n",
      "F1 Score : 0.8896103896103896\n",
      "\n",
      "Classification Report:\n",
      "\n",
      "              precision    recall  f1-score   support\n",
      "\n",
      "         Ham       0.99      0.98      0.98       966\n",
      "        Spam       0.86      0.92      0.89       149\n",
      "\n",
      "    accuracy                           0.97      1115\n",
      "   macro avg       0.92      0.95      0.94      1115\n",
      "weighted avg       0.97      0.97      0.97      1115\n",
      "\n"
     ]
    }
   ],
   "source": [
    "from sklearn.metrics import accuracy_score, precision_score, recall_score, f1_score, classification_report\n",
    "\n",
    "y_pred = nb_model.predict(X_test)\n",
    "\n",
    "print(\"Accuracy :\", accuracy_score(y_test, y_pred))\n",
    "print(\"Precision:\", precision_score(y_test, y_pred))\n",
    "print(\"Recall   :\", recall_score(y_test, y_pred))\n",
    "print(\"F1 Score :\", f1_score(y_test, y_pred))\n",
    "print(\"\\nClassification Report:\\n\")\n",
    "print(classification_report(y_test, y_pred, target_names=['Ham', 'Spam']))"
   ]
  },
  {
   "cell_type": "markdown",
   "id": "34a45505-3c68-465e-98de-eb7142bd4467",
   "metadata": {},
   "source": [
    "### 10. [Theory] What is the difference between Multinomial, Bernoulli, and Gaussian Naive Bayes?\n",
    "\n",
    "1. **Multinomial Naive Bayes**\n",
    "- Used For: Text classification, document classification (e.g., spam detection)\n",
    "- Feature Type: Discrete counts (e.g., word frequencies or TF-IDF scores)\n",
    "- Assumes: Features (words) follow a multinomial distribution\n",
    "- Example: Number of times a word appears in an email\n",
    "- Best when: Features are count-based (e.g., CountVectorizer, TfidfVectorizer outputs)\n",
    "\n",
    "2. **Bernoulli Naive Bayes**\n",
    "- Used For: Binary/boolean feature data\n",
    "- Feature Type: 0 or 1 (presence/absence of a word)\n",
    "- Assumes: Features follow a Bernoulli distribution (binary outcome)\n",
    "- Example: Whether a specific word is present in a document (1 = yes, 0 = no)\n",
    "- Best when: Data is binary, like \"word present or not\"\n",
    "\n",
    "3. **Gaussian Naive Bayes**\n",
    "- Used For: Continuous/numeric data (not text)\n",
    "- Feature Type: Real-valued inputs\n",
    "- Assumes: Features are drawn from a Gaussian (normal) distribution\n",
    "- Example: Age, height, salary, etc.\n",
    "- Best when: You're dealing with continuous features that are normally distributed\n",
    "\n",
    "| Model          | Input Type           | Use Case                          | Distribution Assumed |\n",
    "| -------------- | -------------------- | --------------------------------- | -------------------- |\n",
    "| Multinomial NB | Counts / Frequencies | Text classification (word counts) | Multinomial          |\n",
    "| Bernoulli NB   | Binary (0/1)         | Binary features (word presence)   | Bernoulli            |\n",
    "| Gaussian NB    | Continuous values    | General classification (non-text) | Gaussian (Normal)    |"
   ]
  },
  {
   "cell_type": "markdown",
   "id": "40962f04-13a2-4ecb-b8ae-bff5a8bcf109",
   "metadata": {},
   "source": [
    "### 11. [Code] Display a confusion matrix using seaborn.heatmap() and explain your observations.\n",
    "**Observations:**\n",
    "- High Accuracy:\n",
    "    - Out of 1,115 total messages, 1,081 are correctly classified.\n",
    "    - Accuracy ≈ (944 + 137) / 1115 = 0.9695 or ~97%.\n",
    "- Low False Negative Rate:\n",
    "    - Only 12 actual spam messages were misclassified as ham.\n",
    "    - This is good because we don’t want spam messages slipping through.\n",
    "- Few False Positives:\n",
    "    - 22 ham messages wrongly flagged as spam.\n",
    "    - May annoy users but still manageable.\n",
    "- True Positives (137):\n",
    "    - Spam detected correctly — a strong sign of classifier performance."
   ]
  },
  {
   "cell_type": "code",
   "execution_count": 48,
   "id": "4703d3a7-5fee-4d46-bef6-5547625c0bf6",
   "metadata": {},
   "outputs": [
    {
     "data": {
      "image/png": "[encoded data removed]",
      "text/plain": [
       "<Figure size 500x400 with 2 Axes>"
      ]
     },
     "metadata": {},
     "output_type": "display_data"
    }
   ],
   "source": [
    "cm = confusion_matrix(y_test, y_pred)\n",
    "\n",
    "# Plot\n",
    "plt.figure(figsize=(5, 4))\n",
    "sns.heatmap(cm, annot=True, fmt='d', cmap='Blues', xticklabels=['Ham', 'Spam'], yticklabels=['Ham', 'Spam'])\n",
    "\n",
    "plt.title('Confusion Matrix')\n",
    "plt.xlabel('Predicted')\n",
    "plt.ylabel('Actual')\n",
    "plt.show()"
   ]
  },
  {
   "cell_type": "markdown",
   "id": "2c67386d-67c5-46d8-9067-43d89bde12c8",
   "metadata": {},
   "source": [
    "### 12. [Code] Show top 10 most informative features (words) associated with spam messages."
   ]
  },
  {
   "cell_type": "code",
   "execution_count": 51,
   "id": "cd0fc519-3473-42a8-9fc4-7ab74343e7ee",
   "metadata": {},
   "outputs": [
    {
     "name": "stdout",
     "output_type": "stream",
     "text": [
      "Top 10 most indicative words of spam:\n",
      "call — log prob: -4.0877\n",
      "free — log prob: -4.5371\n",
      "txt — log prob: -4.9067\n",
      "ur — log prob: -4.9398\n",
      "claim — log prob: -5.1650\n",
      "text — log prob: -5.1863\n",
      "stop — log prob: -5.1971\n",
      "mobile — log prob: -5.2416\n",
      "reply — log prob: -5.2881\n",
      "prize — log prob: -5.5142\n"
     ]
    }
   ],
   "source": [
    "feature_names = cv.get_feature_names_out()\n",
    "\n",
    "# Classes: [0 = ham, 1 = spam]\n",
    "spam_class_index = list(nb_model.classes_).index(1)\n",
    "log_probs = nb_model.feature_log_prob_[spam_class_index]\n",
    "\n",
    "top_indices = np.argsort(log_probs)[-10:][::-1]  # Top 10\n",
    "\n",
    "print(\"Top 10 most indicative words of spam:\")\n",
    "for i in top_indices:\n",
    "    print(f\"{feature_names[i]} — log prob: {log_probs[i]:.4f}\")"
   ]
  },
  {
   "cell_type": "markdown",
   "id": "a4ff9289-f81a-4f57-a3f7-167e926ec511",
   "metadata": {},
   "source": [
    "### 13. [Code + Explain] Handle class imbalance using SMOTE or Random Oversampling and retrain the model. Compare results.\n",
    "| Metric           | **Before SMOTE**       | **After SMOTE**     |\n",
    "| ---------------- | ---------------------- | ------------------- |\n",
    "| Accuracy         | \\~97%                  | **96%**             |\n",
    "| Precision (Spam) | \\~86–96% (likely high) | **81%**   |\n",
    "| Recall (Spam)    | \\~85% or less          | **89%**  |\n",
    "| F1 Score (Spam)  | \\~85–87%               | **85%**  |\n",
    "\n",
    "- **Observations:**\n",
    "- Recall (Spam) improved from ~85% → 89%\n",
    "    - Meaning fewer spam messages are missed\n",
    "- Precision (Spam) dropped slightly\n",
    "    - A few more ham messages might now be misclassified as spam — this is expected with oversampling.\n",
    "- Overall F1 is balanced → Good trade-off"
   ]
  },
  {
   "cell_type": "code",
   "execution_count": 54,
   "id": "6d4839c1-60b2-461f-93ca-01518b1326f4",
   "metadata": {},
   "outputs": [
    {
     "name": "stdout",
     "output_type": "stream",
     "text": [
      "Before SMOTE: {0: 3859, 1: 598}\n",
      "After SMOTE : {0: 3859, 1: 3859}\n",
      "Evaluation after SMOTE:\n",
      "              precision    recall  f1-score   support\n",
      "\n",
      "         Ham       0.98      0.97      0.98       966\n",
      "        Spam       0.81      0.89      0.85       149\n",
      "\n",
      "    accuracy                           0.96      1115\n",
      "   macro avg       0.90      0.93      0.91      1115\n",
      "weighted avg       0.96      0.96      0.96      1115\n",
      "\n"
     ]
    }
   ],
   "source": [
    "X_train, X_test, y_train, y_test = train_test_split(X_cv, df['v1'].map({'ham': 0, 'spam': 1}), \n",
    "                                                    test_size=0.2, random_state=42, stratify=df['v1'])\n",
    "\n",
    "smote = SMOTE(random_state=42)\n",
    "X_train_resampled, y_train_resampled = smote.fit_resample(X_train, y_train)\n",
    "\n",
    "print(\"Before SMOTE:\", y_train.value_counts().to_dict())\n",
    "print(\"After SMOTE :\", dict(zip(*np.unique(y_train_resampled, return_counts=True))))\n",
    "\n",
    "nb_smote = MultinomialNB()\n",
    "nb_smote.fit(X_train_resampled, y_train_resampled)\n",
    "\n",
    "y_pred_smote = nb_smote.predict(X_test)\n",
    "\n",
    "print(\"Evaluation after SMOTE:\")\n",
    "print(classification_report(y_test, y_pred_smote, target_names=['Ham', 'Spam']))"
   ]
  },
  {
   "cell_type": "markdown",
   "id": "0c80ed13-d94c-439b-ad59-922f0343085a",
   "metadata": {},
   "source": [
    "### 14. [Code + Bonus] Build a simple text classifier pipeline using Pipeline from sklearn. Include preprocessing + vectorization + model steps."
   ]
  },
  {
   "cell_type": "code",
   "execution_count": 57,
   "id": "87dcaf7f-5205-432d-b4ba-b759d422dcad",
   "metadata": {},
   "outputs": [
    {
     "name": "stdout",
     "output_type": "stream",
     "text": [
      "Classification Report:\n",
      "\n",
      "              precision    recall  f1-score   support\n",
      "\n",
      "         Ham       0.97      1.00      0.98       966\n",
      "        Spam       1.00      0.77      0.87       149\n",
      "\n",
      "    accuracy                           0.97      1115\n",
      "   macro avg       0.98      0.88      0.92      1115\n",
      "weighted avg       0.97      0.97      0.97      1115\n",
      "\n"
     ]
    }
   ],
   "source": [
    "X = df['v2']  # text messages\n",
    "y = df['v1'].map({'ham': 0, 'spam': 1})  # labels as 0/1\n",
    "\n",
    "X_train, X_test, y_train, y_test = train_test_split(X, y, test_size=0.2, random_state=42, stratify=y)\n",
    "\n",
    "pipeline = Pipeline([\n",
    "    ('tfidf', TfidfVectorizer(stop_words='english', lowercase=True)),\n",
    "    ('nb', MultinomialNB())\n",
    "])\n",
    "\n",
    "pipeline.fit(X_train, y_train)\n",
    "y_pred = pipeline.predict(X_test)\n",
    "print(\"Classification Report:\\n\")\n",
    "print(classification_report(y_test, y_pred, target_names=['Ham', 'Spam']))"
   ]
  },
  {
   "cell_type": "code",
   "execution_count": null,
   "id": "13ab25c6-d783-46b8-b4e2-53dcce0c397b",
   "metadata": {},
   "outputs": [],
   "source": []
  }
 ],
 "metadata": {
  "kernelspec": {
   "display_name": "Python 3 (ipykernel)",
   "language": "python",
   "name": "python3"
  },
  "language_info": {
   "codemirror_mode": {
    "name": "ipython",
    "version": 3
   },
   "file_extension": ".py",
   "mimetype": "text/x-python",
   "name": "python",
   "nbconvert_exporter": "python",
   "pygments_lexer": "ipython3",
   "version": "3.12.7"
  }
 },
 "nbformat": 4,
 "nbformat_minor": 5
}
